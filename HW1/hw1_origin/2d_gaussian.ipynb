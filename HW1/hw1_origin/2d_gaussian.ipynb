{
 "cells": [
  {
   "cell_type": "code",
   "execution_count": null,
   "metadata": {},
   "outputs": [],
   "source": [
    "import numpy as np\n",
    "import matplotlib.pyplot as plt\n",
    "\n",
    "# This is similar to the code from lecture 1\n",
    "# to sample from a 2D Gaussian Distribution\n",
    "mean = [0,2]\n",
    "cov = [[1, 2], [2, 5]]\n",
    "# Fix random seed to get consistent results\n",
    "np.random.seed(1024)\n",
    "X = np.random.multivariate_normal(mean, cov, 1000)\n",
    "fig, ax = plt.subplots(figsize=(10, 10))\n",
    "# c='r', dot color is red\n",
    "# s=10.0, dot size is 10\n",
    "# alpha=0.3, dot opacity is 0.3\n",
    "ax.scatter(X[:,0], X[:,1], c='r', s=10.0, alpha=0.3, label=\"2D-Gaussian\")\n",
    "ax.grid()\n",
    "ax.legend(loc = 0)\n",
    "# Set x/y axis limits\n",
    "ax.set_xlim([-10, 10])\n",
    "ax.set_ylim([-10, 10])\n",
    "fig.show()"
   ]
  },
  {
   "cell_type": "code",
   "execution_count": null,
   "metadata": {
    "collapsed": true
   },
   "outputs": [],
   "source": [
    "# TODO: Report the estimate mean and covariance\n",
    "# of the sampled points\n"
   ]
  },
  {
   "cell_type": "code",
   "execution_count": null,
   "metadata": {
    "collapsed": true
   },
   "outputs": [],
   "source": [
    "# TODO: Plot the histogram for the x-coordinates of X\n",
    "# and y-coordinates of X respectively.\n",
    "# You can use the plt.hist() function\n"
   ]
  },
  {
   "cell_type": "code",
   "execution_count": null,
   "metadata": {
    "collapsed": true
   },
   "outputs": [],
   "source": [
    "# TODO: Are the x-coordinates of X samples from\n",
    "# some Gaussian distribution?\n",
    "# If so, estimate the mean and variance.\n",
    "# Do the same for the y-coordinates.\n",
    "\n",
    "\n",
    "\n",
    "# TODO: Generate a new 2D scatter plot of 1000 points,\n",
    "# such that the x-coordinates(y-coordinates) of all the points\n",
    "# are samples from a 1D Gaussian distribution \n",
    "# using the estimated mean and variance based on the x-coordinates(y-coordinates) of X.\n",
    "\n"
   ]
  },
  {
   "cell_type": "code",
   "execution_count": null,
   "metadata": {},
   "outputs": [],
   "source": [
    "# Back to the original X\n",
    "fig, ax = plt.subplots(figsize=(10, 10))\n",
    "# c='r', dot color is red\n",
    "# s=10.0, dot size is 10\n",
    "# alpha=0.3, dot opacity is 0.3\n",
    "ax.scatter(X[:,0], X[:,1], c='r', s=10.0, alpha=0.3, label=\"2D-Gaussian\")\n",
    "ax.grid()\n",
    "ax.legend(loc = 0)\n",
    "ax.set_xlim([-10, 10])\n",
    "ax.set_ylim([-10, 10])\n",
    "\n",
    "# TODO: Plot a line segment with x = [-10, 10]\n",
    "# and y = 2x + 2 onto the 2D-Gaussian plot.\n",
    "# The np.linspace() function may be helpful.\n",
    "\n",
    "fig.show()"
   ]
  },
  {
   "cell_type": "code",
   "execution_count": null,
   "metadata": {},
   "outputs": [],
   "source": [
    "# TODO: Project X onto line y = 2x + 2\n",
    "# and plot the projected points on the 2D space.\n",
    "# You need to remove this line and assign the projected points to X_proj.\n",
    "X_proj = np.zeros(X.shape)\n",
    "\n",
    "# Here we only plot 30 points to check the correctness\n",
    "fig, ax = plt.subplots(figsize=(10, 10))\n",
    "ax.scatter(X_proj[:30,0], X_proj[:30,1], c='b', s=10.0, alpha=1.0, label=\"Projected 2D-Gaussian\")\n",
    "ax.scatter(X[:30,0], X[:30,1], c='r', s=10.0, alpha=1.0, label=\"2D-Gaussian\")\n",
    "ax.grid()\n",
    "ax.legend(loc = 0)\n",
    "ax.set_xlim([-10, 10])\n",
    "ax.set_ylim([-10, 10])\n",
    "# You can also add the line from the previous plot for verification.\n",
    "fig.show()\n"
   ]
  },
  {
   "cell_type": "code",
   "execution_count": null,
   "metadata": {
    "collapsed": true
   },
   "outputs": [],
   "source": [
    "# TODO: Draw the histogram of the x-coordinates\n",
    "# of the projected points.\n",
    "# Are the x-coordinates of the projected points\n",
    "# samples from some Gaussian distribution?\n",
    "# If so, estimate the mean and variance."
   ]
  },
  {
   "cell_type": "code",
   "execution_count": null,
   "metadata": {
    "collapsed": true
   },
   "outputs": [],
   "source": []
  }
 ],
 "metadata": {
  "kernelspec": {
   "display_name": "base",
   "language": "python",
   "name": "python3"
  },
  "language_info": {
   "codemirror_mode": {
    "name": "ipython",
    "version": 3
   },
   "file_extension": ".py",
   "mimetype": "text/x-python",
   "name": "python",
   "nbconvert_exporter": "python",
   "pygments_lexer": "ipython3",
   "version": "3.11.4"
  }
 },
 "nbformat": 4,
 "nbformat_minor": 2
}
