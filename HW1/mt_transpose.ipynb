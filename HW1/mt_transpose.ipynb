{
 "cells": [
  {
   "cell_type": "markdown",
   "metadata": {},
   "source": [
    "# 5.1"
   ]
  },
  {
   "cell_type": "code",
   "execution_count": 77,
   "metadata": {},
   "outputs": [
    {
     "data": {
      "text/plain": [
       "(2, 3, 4, 6)"
      ]
     },
     "execution_count": 77,
     "metadata": {},
     "output_type": "execute_result"
    }
   ],
   "source": [
    "import numpy as np\n",
    "n = 144\n",
    "B, C, H, W = 2, 3, 4, 6\n",
    "img = np.arange(n)\n",
    "img = img.reshape(B, C, H, W)\n",
    "img.shape"
   ]
  },
  {
   "cell_type": "code",
   "execution_count": 78,
   "metadata": {},
   "outputs": [
    {
     "data": {
      "text/plain": [
       "(2, 4, 3, 2, 3)"
      ]
     },
     "execution_count": 78,
     "metadata": {},
     "output_type": "execute_result"
    }
   ],
   "source": [
    "def patchify_image(img, patch_size):\n",
    "    B, C, H, W = img.shape\n",
    "    p_h, p_w = patch_size\n",
    "    assert H % p_h == 0 and W % p_w == 0, \"Height and Width must be divisible by patch size\"\n",
    "    img = img.reshape(B, C, H // p_h, p_h, W // p_w, p_w)\n",
    "    img = img.transpose(0, 2, 4, 1, 3, 5)\n",
    "    patches = img.reshape(B, (H // p_h) * (W // p_w), C, p_h, p_w)\n",
    "    return patches\n",
    "patches = patchify_image(img, (2, 3))\n",
    "patches.shape"
   ]
  },
  {
   "cell_type": "markdown",
   "metadata": {},
   "source": [
    "# 5.2"
   ]
  },
  {
   "cell_type": "code",
   "execution_count": 79,
   "metadata": {},
   "outputs": [
    {
     "name": "stdout",
     "output_type": "stream",
     "text": [
      "(1, 3, 144, 128)\n"
     ]
    }
   ],
   "source": [
    "# read an 128*144 image to numpy array\n",
    "import cv2\n",
    "img = cv2.imread('testimg.png')\n",
    "img.shape\n",
    "img_resized = cv2.resize(img, (128, 144))\n",
    "img_array = np.transpose(img_resized, (2, 0, 1))  # (H, W, C) -> (C, H, W)\n",
    "img_array = img_array[np.newaxis, ...]\n",
    "\n",
    "print(img_array.shape)\n",
    "img_array = patchify_image(img_array, (12, 16))\n",
    "# save the patched images\n",
    "import os\n",
    "def save_patches(patches, output_dir):\n",
    "    os.makedirs(output_dir, exist_ok=True)\n",
    "    B, num_patches, C, p_h, p_w = patches.shape\n",
    "    for b in range(B):\n",
    "        for i in range(num_patches):\n",
    "            patch = patches[b, i]\n",
    "            patch_filename = os.path.join(output_dir, f'patch_b{b}_i{i}.png')\n",
    "            patch = np.transpose(patch, (1, 2, 0))  # (C, H, W) -> (H, W, C)\n",
    "            cv2.imwrite(patch_filename, patch)\n",
    "output_dir = 'patches'\n",
    "save_patches(img_array, output_dir)"
   ]
  }
 ],
 "metadata": {
  "kernelspec": {
   "display_name": "ml_course",
   "language": "python",
   "name": "python3"
  },
  "language_info": {
   "codemirror_mode": {
    "name": "ipython",
    "version": 3
   },
   "file_extension": ".py",
   "mimetype": "text/x-python",
   "name": "python",
   "nbconvert_exporter": "python",
   "pygments_lexer": "ipython3",
   "version": "3.12.9"
  }
 },
 "nbformat": 4,
 "nbformat_minor": 2
}
