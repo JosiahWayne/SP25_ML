{
  "cells": [
    {
      "cell_type": "markdown",
      "metadata": {
        "id": "_Ur81PMJGY03"
      },
      "source": [
        "Write a function that given a list of 3D points, draw the given list as a point cloud."
      ]
    },
    {
      "cell_type": "code",
      "execution_count": 8,
      "metadata": {
        "id": "cJvEFm6mF6iv"
      },
      "outputs": [],
      "source": [
        "import matplotlib.pyplot as plt\n",
        "\n",
        "def draw_point_cloud(points):\n",
        "    \"\"\"\n",
        "    Given a list of 3D points, draw the point cloud.\n",
        "    :param points: List of tuples or lists, where each element is (x, y, z)\n",
        "    \"\"\"\n",
        "    pass\n"
      ]
    },
    {
      "cell_type": "markdown",
      "metadata": {
        "id": "y2_Hot-Lx6e7"
      },
      "source": [
        "z^TMz = c, with M positive definite and c > 0 defines an ellipsoid (high-dimensional ellipse). Draw a half ellipsoid in 3D with the following randomly generated M and c=300. The half-ellipsoid should be illustrated with at least 2500 points in 3D."
      ]
    },
    {
      "cell_type": "code",
      "execution_count": 1,
      "metadata": {
        "colab": {
          "base_uri": "https://localhost:8080/",
          "height": 983
        },
        "id": "fPvarUS9HIlz",
        "outputId": "3435b0db-bf13-4205-fece-8d1536165d02"
      },
      "outputs": [
        {
          "name": "stdout",
          "output_type": "stream",
          "text": [
            "(100, 3)\n"
          ]
        }
      ],
      "source": [
        "import numpy as np\n",
        "np.random.seed(42)\n",
        "cov_mat = [[1, 0.5, 0.3],[0.5, 1, 0.2],[0.3, 0.2, 1]]\n",
        "X = np.random.multivariate_normal([0.0, 1.0, 2.0], cov_mat,  (100))\n",
        "print(X.shape)\n",
        "XTX = X.transpose().dot(X)\n",
        "M = XTX"
      ]
    },
    {
      "cell_type": "code",
      "execution_count": null,
      "metadata": {
        "id": "SUjAY65ixef5"
      },
      "outputs": [],
      "source": []
    }
  ],
  "metadata": {
    "colab": {
      "provenance": []
    },
    "kernelspec": {
      "display_name": "Python 3",
      "name": "python3"
    },
    "language_info": {
      "codemirror_mode": {
        "name": "ipython",
        "version": 3
      },
      "file_extension": ".py",
      "mimetype": "text/x-python",
      "name": "python",
      "nbconvert_exporter": "python",
      "pygments_lexer": "ipython3",
      "version": "3.11.4"
    }
  },
  "nbformat": 4,
  "nbformat_minor": 0
}
